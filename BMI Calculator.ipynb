{
 "cells": [
  {
   "cell_type": "markdown",
   "id": "c5daaeda-3349-48a6-90b9-c21139cec60c",
   "metadata": {},
   "source": [
    "# BMI Calculator\n",
    "\n",
    "https://mercer-health.com/services/weight-management-center/bmi-calculator#:~:text=Body%20Mass%20Index%2C%20or%20BMI,inches%20x%20height%20in%20inches"
   ]
  },
  {
   "cell_type": "code",
   "execution_count": 3,
   "id": "eef645c5-4aa5-4f86-aabb-8154d5e7a53f",
   "metadata": {},
   "outputs": [
    {
     "name": "stdin",
     "output_type": "stream",
     "text": [
      "Enter your name:  flourish\n",
      "Enter your weight in pounds:  201\n",
      "Enter your height in inches:  76\n"
     ]
    },
    {
     "name": "stdout",
     "output_type": "stream",
     "text": [
      "24.463815789473685\n",
      "flourish, you are normal weight. You must be proud of yourself\n"
     ]
    }
   ],
   "source": [
    "name = input(\"Enter your name: \")\n",
    "\n",
    "weight = int(input(\"Enter your weight in pounds: \"))\n",
    "\n",
    "height = int(input(\"Enter your height in inches: \"))\n",
    "\n",
    "BMI = (weight * 703) / (height * height)\n",
    "\n",
    "print(BMI)\n",
    "\n",
    "if BMI>0:\n",
    "    if(BMI<18.5):\n",
    "        print(name +\", you are underweight. You need to eat more\")\n",
    "    elif(BMI<=24.9):\n",
    "        print(name +\", you are normal weight. You must be proud of yourself\")\n",
    "    elif(BMI<29.9):\n",
    "        print(name +\", you are overweight. You need to exercise more and stop being so lazy\")\n",
    "    elif(BMI<34.9):\n",
    "        print(name +\", you are obese. You really need to hit the gym\")\n",
    "    elif(BMI<39.9):\n",
    "        print(name +\", you are severely obese. Are you really happy when you look at the mirror? Stop taking pizza and go work on yourself\")\n",
    "    else:\n",
    "        print(name +\", you are morbidly obese.You are laugh away from a heart attack. Start dieting and exercising before its too late\")\n",
    "else:\n",
    "    print(\"Enter valid input\")\n",
    "\n",
    "\n",
    "        \n",
    "  \n",
    "\n"
   ]
  },
  {
   "cell_type": "code",
   "execution_count": null,
   "id": "cb2c6ff8-b771-4347-a785-d6a30d020cb3",
   "metadata": {},
   "outputs": [],
   "source": []
  },
  {
   "cell_type": "code",
   "execution_count": null,
   "id": "871a84bf-af47-493c-8118-4b6a834a82cc",
   "metadata": {},
   "outputs": [],
   "source": []
  },
  {
   "cell_type": "code",
   "execution_count": null,
   "id": "f96c84aa-a8c5-4e50-acea-662905726dc2",
   "metadata": {},
   "outputs": [],
   "source": []
  },
  {
   "cell_type": "code",
   "execution_count": null,
   "id": "1980888a-50e3-4c1b-9533-8bf325b1d0d4",
   "metadata": {},
   "outputs": [],
   "source": []
  },
  {
   "cell_type": "code",
   "execution_count": null,
   "id": "ecfe5a04-037f-43e5-8cd2-d945d0c80e63",
   "metadata": {},
   "outputs": [],
   "source": []
  },
  {
   "cell_type": "code",
   "execution_count": null,
   "id": "a738c48f-16cd-44c1-8081-93c59fe33e22",
   "metadata": {},
   "outputs": [],
   "source": []
  },
  {
   "cell_type": "code",
   "execution_count": null,
   "id": "a2594e15-f7ea-488c-8fd6-73e0343502c1",
   "metadata": {},
   "outputs": [],
   "source": []
  },
  {
   "cell_type": "code",
   "execution_count": null,
   "id": "0cdafdae-ae14-488c-912d-59e4b4600939",
   "metadata": {},
   "outputs": [],
   "source": []
  },
  {
   "cell_type": "code",
   "execution_count": null,
   "id": "e2e7c07e-6e0c-4837-8ea7-ee0d77115eac",
   "metadata": {},
   "outputs": [],
   "source": [
    "#BMI = (weight in pounds x 703) / (height in inches x height in inches)"
   ]
  },
  {
   "cell_type": "code",
   "execution_count": null,
   "id": "29f03402-3daa-41d2-b9ae-c7fa8a8e4fd5",
   "metadata": {},
   "outputs": [],
   "source": [
    "print (weight)"
   ]
  },
  {
   "cell_type": "code",
   "execution_count": null,
   "id": "c98910bb-939a-4a30-bfed-1201dc2a6880",
   "metadata": {},
   "outputs": [],
   "source": [
    "Under 18.5\tUnderweight\tMinimal\n",
    "18.5 - 24.9\tNormal Weight\tMinimal\n",
    "25 - 29.9\tOverweight\tIncreased\n",
    "30 - 34.9\tObese\tHigh\n",
    "35 - 39.9\tSeverely Obese\tVery High\n",
    "40 and over\tMorbidly Obese\tExtremely High"
   ]
  },
  {
   "cell_type": "code",
   "execution_count": 26,
   "id": "a4b3a605-7043-4e5c-b8ae-9bb1e792cc27",
   "metadata": {},
   "outputs": [
    {
     "name": "stdout",
     "output_type": "stream",
     "text": [
      "Flourish, you are overweight.\n"
     ]
    }
   ],
   "source": [
    "if BMI>0:\n",
    "    if(BMI<18.5):\n",
    "        print(name +\", you are underweight.\")\n",
    "    elif(BMI<=24.9):\n",
    "        print(name +\", you are normal weight.\")\n",
    "    elif(BMI<29.9):\n",
    "        print(name +\", you are overweight.\")\n",
    "    elif(BMI<34.9):\n",
    "        print(name +\", you are obese.\")\n",
    "    elif(BMI<39.9):\n",
    "        print(name +\", you are severely obese.\")\n",
    "    else:\n",
    "        print(name +\", you are morbidly obese.\")\n",
    "else:\n",
    "    print(\"Enter valid input\")"
   ]
  },
  {
   "cell_type": "code",
   "execution_count": null,
   "id": "74d208cc-7cdd-4550-af37-989968ad8b87",
   "metadata": {},
   "outputs": [],
   "source": []
  },
  {
   "cell_type": "code",
   "execution_count": null,
   "id": "3d62d7fb-ce69-40fd-96de-a7e0a54a42da",
   "metadata": {},
   "outputs": [],
   "source": []
  },
  {
   "cell_type": "code",
   "execution_count": null,
   "id": "7bf6b03e-78b1-451a-90f1-f8a42865eff9",
   "metadata": {},
   "outputs": [],
   "source": []
  },
  {
   "cell_type": "code",
   "execution_count": null,
   "id": "fa06e672-b7d7-46b8-935c-36b422e9f0fa",
   "metadata": {},
   "outputs": [],
   "source": []
  },
  {
   "cell_type": "code",
   "execution_count": null,
   "id": "cf447ef2-b840-4ced-b13e-8172a2aada8a",
   "metadata": {},
   "outputs": [],
   "source": []
  },
  {
   "cell_type": "code",
   "execution_count": null,
   "id": "0ce1ab53-e3f1-4e19-8e72-46cd1403c626",
   "metadata": {},
   "outputs": [],
   "source": []
  },
  {
   "cell_type": "code",
   "execution_count": null,
   "id": "b5a3f725-50cc-4d36-94ed-6d90e0316d29",
   "metadata": {},
   "outputs": [],
   "source": []
  },
  {
   "cell_type": "code",
   "execution_count": null,
   "id": "10ced079-10dd-45de-922f-5a560495226c",
   "metadata": {},
   "outputs": [],
   "source": []
  },
  {
   "cell_type": "code",
   "execution_count": null,
   "id": "3f41716c-1a70-45c5-ac1f-efd5ef327962",
   "metadata": {},
   "outputs": [],
   "source": []
  },
  {
   "cell_type": "code",
   "execution_count": null,
   "id": "7173a460-7835-4096-bdfd-2352379baeac",
   "metadata": {},
   "outputs": [],
   "source": []
  },
  {
   "cell_type": "code",
   "execution_count": null,
   "id": "b8617647-cc0f-4ab9-ac1f-4edc6fa6ddb4",
   "metadata": {},
   "outputs": [],
   "source": []
  },
  {
   "cell_type": "code",
   "execution_count": null,
   "id": "7bd0a715-edc8-4998-8df7-123e58b521e6",
   "metadata": {},
   "outputs": [],
   "source": []
  },
  {
   "cell_type": "code",
   "execution_count": null,
   "id": "e130e153-9484-4b39-83bc-b9ec77f24434",
   "metadata": {},
   "outputs": [],
   "source": []
  },
  {
   "cell_type": "code",
   "execution_count": null,
   "id": "f06f6c05-8786-46e8-9e54-4fcfe3b33e35",
   "metadata": {},
   "outputs": [],
   "source": []
  },
  {
   "cell_type": "code",
   "execution_count": null,
   "id": "cabd062e-497d-45c9-8cf0-f9f16a9394da",
   "metadata": {},
   "outputs": [],
   "source": []
  },
  {
   "cell_type": "code",
   "execution_count": null,
   "id": "2dd6e615-8211-452f-b3a0-8dbaebd30480",
   "metadata": {},
   "outputs": [],
   "source": []
  },
  {
   "cell_type": "code",
   "execution_count": null,
   "id": "19321ef6-56c5-4d65-9b72-174507c96a5d",
   "metadata": {},
   "outputs": [],
   "source": []
  },
  {
   "cell_type": "code",
   "execution_count": null,
   "id": "5cd856ba-742e-4981-8d51-e84491e893d4",
   "metadata": {},
   "outputs": [],
   "source": []
  },
  {
   "cell_type": "code",
   "execution_count": null,
   "id": "a0a75c6e-dd1c-49df-83aa-dc8a56371c7b",
   "metadata": {},
   "outputs": [],
   "source": []
  },
  {
   "cell_type": "code",
   "execution_count": null,
   "id": "b23507d4-d923-4c0e-a531-654e144f7bfe",
   "metadata": {},
   "outputs": [],
   "source": []
  },
  {
   "cell_type": "code",
   "execution_count": null,
   "id": "8ffcb8f1-aa28-4dcb-980c-2ce53219dcfc",
   "metadata": {},
   "outputs": [],
   "source": []
  },
  {
   "cell_type": "code",
   "execution_count": null,
   "id": "c39b26c8-ee44-451c-b989-3f6651a68fda",
   "metadata": {},
   "outputs": [],
   "source": []
  },
  {
   "cell_type": "code",
   "execution_count": null,
   "id": "38d12c82-9689-460a-add0-7245b5bcfc71",
   "metadata": {},
   "outputs": [],
   "source": []
  },
  {
   "cell_type": "code",
   "execution_count": null,
   "id": "52c0b51d-9b4f-49e3-a611-dba94e073b02",
   "metadata": {},
   "outputs": [],
   "source": []
  },
  {
   "cell_type": "code",
   "execution_count": null,
   "id": "7243bbbb-4cc1-43d6-9ee7-b7e35a11365c",
   "metadata": {},
   "outputs": [],
   "source": []
  },
  {
   "cell_type": "code",
   "execution_count": null,
   "id": "8b4ca1e0-d3aa-4b35-a41b-fcc31b8b4336",
   "metadata": {},
   "outputs": [],
   "source": []
  },
  {
   "cell_type": "code",
   "execution_count": null,
   "id": "74f40103-8f69-4741-bc63-7ed15681a090",
   "metadata": {},
   "outputs": [],
   "source": []
  },
  {
   "cell_type": "code",
   "execution_count": null,
   "id": "270dcf30-432b-49fe-bb9d-cbec1af240ee",
   "metadata": {},
   "outputs": [],
   "source": []
  },
  {
   "cell_type": "code",
   "execution_count": null,
   "id": "b69cef61-771e-4e57-b047-bf653e0f2ee3",
   "metadata": {},
   "outputs": [],
   "source": []
  },
  {
   "cell_type": "code",
   "execution_count": null,
   "id": "d235c2da-4275-4181-91fd-5c7dc6e3c5ee",
   "metadata": {},
   "outputs": [],
   "source": []
  },
  {
   "cell_type": "code",
   "execution_count": null,
   "id": "2f7e18b6-3551-4358-9063-b9cf8f964f85",
   "metadata": {},
   "outputs": [],
   "source": []
  },
  {
   "cell_type": "code",
   "execution_count": null,
   "id": "514dc2b5-9277-4d8e-b8d9-d14feb878721",
   "metadata": {},
   "outputs": [],
   "source": []
  },
  {
   "cell_type": "code",
   "execution_count": null,
   "id": "1849df05-c7a0-4818-95ab-c95accbd311e",
   "metadata": {},
   "outputs": [],
   "source": []
  },
  {
   "cell_type": "code",
   "execution_count": null,
   "id": "35c4a24f-9753-4e24-9f6d-221cd7b814f6",
   "metadata": {},
   "outputs": [],
   "source": []
  },
  {
   "cell_type": "code",
   "execution_count": null,
   "id": "87b775d9-29cd-4aed-83fc-333150a91ef1",
   "metadata": {},
   "outputs": [],
   "source": []
  },
  {
   "cell_type": "code",
   "execution_count": null,
   "id": "5c73cdd6-03be-47b6-b6e7-97dadbbfef88",
   "metadata": {},
   "outputs": [],
   "source": []
  },
  {
   "cell_type": "code",
   "execution_count": null,
   "id": "e7a32c3f-5bea-49e7-9686-484eca4c1530",
   "metadata": {},
   "outputs": [],
   "source": []
  },
  {
   "cell_type": "code",
   "execution_count": null,
   "id": "1e04f9b4-586f-4b56-9de6-c5728bbee61d",
   "metadata": {},
   "outputs": [],
   "source": []
  },
  {
   "cell_type": "code",
   "execution_count": null,
   "id": "2179d572-ed50-4d93-af8c-37babadee66e",
   "metadata": {},
   "outputs": [],
   "source": []
  },
  {
   "cell_type": "code",
   "execution_count": null,
   "id": "46017d14-6d84-4094-a806-b28b617c98fc",
   "metadata": {},
   "outputs": [],
   "source": []
  },
  {
   "cell_type": "code",
   "execution_count": null,
   "id": "f150fbd5-0672-482b-b2c2-7fc8cf2fb3e8",
   "metadata": {},
   "outputs": [],
   "source": []
  },
  {
   "cell_type": "code",
   "execution_count": null,
   "id": "390678a4-9ea7-4f66-aa51-98c8b11aeca4",
   "metadata": {},
   "outputs": [],
   "source": []
  },
  {
   "cell_type": "code",
   "execution_count": null,
   "id": "929c8961-6352-490a-a355-ea90d8856e04",
   "metadata": {},
   "outputs": [],
   "source": []
  },
  {
   "cell_type": "code",
   "execution_count": null,
   "id": "6af5bed9-6874-46fc-9246-6298cab72f90",
   "metadata": {},
   "outputs": [],
   "source": []
  }
 ],
 "metadata": {
  "kernelspec": {
   "display_name": "Python 3 (ipykernel)",
   "language": "python",
   "name": "python3"
  },
  "language_info": {
   "codemirror_mode": {
    "name": "ipython",
    "version": 3
   },
   "file_extension": ".py",
   "mimetype": "text/x-python",
   "name": "python",
   "nbconvert_exporter": "python",
   "pygments_lexer": "ipython3",
   "version": "3.11.7"
  }
 },
 "nbformat": 4,
 "nbformat_minor": 5
}
